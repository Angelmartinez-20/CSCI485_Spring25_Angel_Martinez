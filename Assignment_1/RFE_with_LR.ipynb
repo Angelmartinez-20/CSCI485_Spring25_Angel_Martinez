{
 "cells": [
  {
   "cell_type": "markdown",
   "metadata": {},
   "source": [
    "# **CSCI 485 Assignment#1: Recursive Feature Elimination with Linear Regression**"
   ]
  },
  {
   "cell_type": "markdown",
   "metadata": {},
   "source": [
    "## **Task 1: Dataset Exploration**\n",
    "---"
   ]
  },
  {
   "cell_type": "markdown",
   "metadata": {},
   "source": [
    "The first step was to load the dataset from the `sklearn.datasets` library and examine its contents."
   ]
  },
  {
   "cell_type": "code",
   "execution_count": 1,
   "metadata": {},
   "outputs": [
    {
     "name": "stdout",
     "output_type": "stream",
     "text": [
      ".. _diabetes_dataset:\n",
      "\n",
      "Diabetes dataset\n",
      "----------------\n",
      "\n",
      "Ten baseline variables, age, sex, body mass index, average blood\n",
      "pressure, and six blood serum measurements were obtained for each of n =\n",
      "442 diabetes patients, as well as the response of interest, a\n",
      "quantitative measure of disease progression one year after baseline.\n",
      "\n",
      "**Data Set Characteristics:**\n",
      "\n",
      ":Number of Instances: 442\n",
      "\n",
      ":Number of Attributes: First 10 columns are numeric predictive values\n",
      "\n",
      ":Target: Column 11 is a quantitative measure of disease progression one year after baseline\n",
      "\n",
      ":Attribute Information:\n",
      "    - age     age in years\n",
      "    - sex\n",
      "    - bmi     body mass index\n",
      "    - bp      average blood pressure\n",
      "    - s1      tc, total serum cholesterol\n",
      "    - s2      ldl, low-density lipoproteins\n",
      "    - s3      hdl, high-density lipoproteins\n",
      "    - s4      tch, total cholesterol / HDL\n",
      "    - s5      ltg, possibly log of serum triglycerides level\n",
      "    - s6      glu, blood sugar level\n",
      "\n",
      "Note: Each of these 10 feature variables have been mean centered and scaled by the standard deviation times the square root of `n_samples` (i.e. the sum of squares of each column totals 1).\n",
      "\n",
      "Source URL:\n",
      "https://www4.stat.ncsu.edu/~boos/var.select/diabetes.html\n",
      "\n",
      "For more information see:\n",
      "Bradley Efron, Trevor Hastie, Iain Johnstone and Robert Tibshirani (2004) \"Least Angle Regression,\" Annals of Statistics (with discussion), 407-499.\n",
      "(https://web.stanford.edu/~hastie/Papers/LARS/LeastAngle_2002.pdf)\n",
      "\n"
     ]
    },
    {
     "data": {
      "text/html": [
       "<div>\n",
       "<style scoped>\n",
       "    .dataframe tbody tr th:only-of-type {\n",
       "        vertical-align: middle;\n",
       "    }\n",
       "\n",
       "    .dataframe tbody tr th {\n",
       "        vertical-align: top;\n",
       "    }\n",
       "\n",
       "    .dataframe thead th {\n",
       "        text-align: right;\n",
       "    }\n",
       "</style>\n",
       "<table border=\"1\" class=\"dataframe\">\n",
       "  <thead>\n",
       "    <tr style=\"text-align: right;\">\n",
       "      <th></th>\n",
       "      <th>age</th>\n",
       "      <th>sex</th>\n",
       "      <th>bmi</th>\n",
       "      <th>bp</th>\n",
       "      <th>s1</th>\n",
       "      <th>s2</th>\n",
       "      <th>s3</th>\n",
       "      <th>s4</th>\n",
       "      <th>s5</th>\n",
       "      <th>s6</th>\n",
       "    </tr>\n",
       "  </thead>\n",
       "  <tbody>\n",
       "    <tr>\n",
       "      <th>0</th>\n",
       "      <td>0.038076</td>\n",
       "      <td>0.050680</td>\n",
       "      <td>0.061696</td>\n",
       "      <td>0.021872</td>\n",
       "      <td>-0.044223</td>\n",
       "      <td>-0.034821</td>\n",
       "      <td>-0.043401</td>\n",
       "      <td>-0.002592</td>\n",
       "      <td>0.019907</td>\n",
       "      <td>-0.017646</td>\n",
       "    </tr>\n",
       "    <tr>\n",
       "      <th>1</th>\n",
       "      <td>-0.001882</td>\n",
       "      <td>-0.044642</td>\n",
       "      <td>-0.051474</td>\n",
       "      <td>-0.026328</td>\n",
       "      <td>-0.008449</td>\n",
       "      <td>-0.019163</td>\n",
       "      <td>0.074412</td>\n",
       "      <td>-0.039493</td>\n",
       "      <td>-0.068332</td>\n",
       "      <td>-0.092204</td>\n",
       "    </tr>\n",
       "    <tr>\n",
       "      <th>2</th>\n",
       "      <td>0.085299</td>\n",
       "      <td>0.050680</td>\n",
       "      <td>0.044451</td>\n",
       "      <td>-0.005670</td>\n",
       "      <td>-0.045599</td>\n",
       "      <td>-0.034194</td>\n",
       "      <td>-0.032356</td>\n",
       "      <td>-0.002592</td>\n",
       "      <td>0.002861</td>\n",
       "      <td>-0.025930</td>\n",
       "    </tr>\n",
       "    <tr>\n",
       "      <th>3</th>\n",
       "      <td>-0.089063</td>\n",
       "      <td>-0.044642</td>\n",
       "      <td>-0.011595</td>\n",
       "      <td>-0.036656</td>\n",
       "      <td>0.012191</td>\n",
       "      <td>0.024991</td>\n",
       "      <td>-0.036038</td>\n",
       "      <td>0.034309</td>\n",
       "      <td>0.022688</td>\n",
       "      <td>-0.009362</td>\n",
       "    </tr>\n",
       "    <tr>\n",
       "      <th>4</th>\n",
       "      <td>0.005383</td>\n",
       "      <td>-0.044642</td>\n",
       "      <td>-0.036385</td>\n",
       "      <td>0.021872</td>\n",
       "      <td>0.003935</td>\n",
       "      <td>0.015596</td>\n",
       "      <td>0.008142</td>\n",
       "      <td>-0.002592</td>\n",
       "      <td>-0.031988</td>\n",
       "      <td>-0.046641</td>\n",
       "    </tr>\n",
       "  </tbody>\n",
       "</table>\n",
       "</div>"
      ],
      "text/plain": [
       "        age       sex       bmi        bp        s1        s2        s3  \\\n",
       "0  0.038076  0.050680  0.061696  0.021872 -0.044223 -0.034821 -0.043401   \n",
       "1 -0.001882 -0.044642 -0.051474 -0.026328 -0.008449 -0.019163  0.074412   \n",
       "2  0.085299  0.050680  0.044451 -0.005670 -0.045599 -0.034194 -0.032356   \n",
       "3 -0.089063 -0.044642 -0.011595 -0.036656  0.012191  0.024991 -0.036038   \n",
       "4  0.005383 -0.044642 -0.036385  0.021872  0.003935  0.015596  0.008142   \n",
       "\n",
       "         s4        s5        s6  \n",
       "0 -0.002592  0.019907 -0.017646  \n",
       "1 -0.039493 -0.068332 -0.092204  \n",
       "2 -0.002592  0.002861 -0.025930  \n",
       "3  0.034309  0.022688 -0.009362  \n",
       "4 -0.002592 -0.031988 -0.046641  "
      ]
     },
     "metadata": {},
     "output_type": "display_data"
    }
   ],
   "source": [
    "import pandas as pd\n",
    "from sklearn.datasets import load_diabetes\n",
    "\n",
    "diabetes = load_diabetes()\n",
    "X = pd.DataFrame(diabetes.data, columns=diabetes.feature_names)\n",
    "y = diabetes.target\n",
    "\n",
    "print(diabetes.DESCR)\n",
    "display(X.head())"
   ]
  },
  {
   "cell_type": "markdown",
   "metadata": {},
   "source": [
    "The following diabetes dataset contains 10 different features to explore:\n",
    "\n",
    "* `age` - Age of the patient\n",
    "* `sex` - Gender of the patient\n",
    "* `bmi` - Body Mass Index\n",
    "* `bp` - Average blood pressure\n",
    "* `s1` - Total serum cholesterol (TC)\n",
    "* `s2` - Low-density lipoproteins (LDL)\n",
    "* `s3` - High-density lipoproteins (HDL)\n",
    "* `s4` - Total cholesterol / HDL (TCH)\n",
    "* `s5` - Log of serum triglycerides level (LTG)\n",
    "* `s6` - Blood sugar level (GLU)\n",
    "\n",
    "The target variable represents a quantitative measure of disease progression one year after baseline."
   ]
  },
  {
   "cell_type": "markdown",
   "metadata": {},
   "source": [
    "Before applying models, the dataset is split into training and testing sets using an 80-20 split."
   ]
  },
  {
   "cell_type": "code",
   "execution_count": 2,
   "metadata": {},
   "outputs": [],
   "source": [
    "from sklearn.model_selection import train_test_split\n",
    "\n",
    "X_train, X_test, y_train, y_test = train_test_split(X, y, test_size=0.2, random_state=42)"
   ]
  },
  {
   "cell_type": "markdown",
   "metadata": {},
   "source": [
    "## **Task 2: Linear Regression Model**\n",
    "---"
   ]
  },
  {
   "cell_type": "markdown",
   "metadata": {},
   "source": [
    "The following code first trains a linear regression model on the training set using all features and then evaluates it on the testing set using the $R^2$ score."
   ]
  },
  {
   "cell_type": "code",
   "execution_count": 3,
   "metadata": {},
   "outputs": [
    {
     "name": "stdout",
     "output_type": "stream",
     "text": [
      "R² Score (All Features): 0.4526\n"
     ]
    }
   ],
   "source": [
    "from sklearn.linear_model import LinearRegression\n",
    "from sklearn.preprocessing import StandardScaler\n",
    "from sklearn.metrics import r2_score\n",
    "\n",
    "scaler = StandardScaler()\n",
    "X_train_scaled = scaler.fit_transform(X_train)\n",
    "X_test_scaled = scaler.transform(X_test)\n",
    "X_train_scaled = pd.DataFrame(X_train_scaled, columns=X.columns)\n",
    "X_test_scaled = pd.DataFrame(X_test_scaled, columns=X.columns)\n",
    "\n",
    "lr = LinearRegression()\n",
    "lr.fit(X_train_scaled, y_train)\n",
    "init_coefficients = pd.Series(lr.coef_, index=X_train_scaled.columns)\n",
    "\n",
    "\n",
    "y_pred = lr.predict(X_test_scaled)\n",
    "r2 = r2_score(y_test, y_pred)\n",
    "print(f\"R² Score (All Features): {r2:.4f}\")\n"
   ]
  },
  {
   "cell_type": "markdown",
   "metadata": {},
   "source": [
    "The current model's performance suggests that 45.26% of the variance in the target variable can be explained using all the features. This means that the model still leaves approximately 54.74% of the variation unexplained."
   ]
  },
  {
   "cell_type": "markdown",
   "metadata": {},
   "source": [
    "## **Task 3: Implement Recursive Feature Elimination (RFE)**\n",
    "---"
   ]
  },
  {
   "cell_type": "markdown",
   "metadata": {},
   "source": [
    "The following code starts with all 10 features and iteratively eliminates the least important feature until only one feature remains using RFE. R² and coefficient values are tracked for later analysis."
   ]
  },
  {
   "cell_type": "code",
   "execution_count": 5,
   "metadata": {},
   "outputs": [],
   "source": [
    "from sklearn.feature_selection import RFE\n",
    "\n",
    "r2_scores = []\n",
    "n_features = []\n",
    "feature_coefficients = []\n",
    "\n",
    "for i in range(1, X_train_scaled.shape[1] + 1):  \n",
    "    rfe = RFE(estimator=LinearRegression(), n_features_to_select=i)\n",
    "    rfe.fit(X_train_scaled, y_train)\n",
    "    \n",
    "    r2 = rfe.score(X_test_scaled, y_test)\n",
    "    r2_scores.append(r2)\n",
    "    n_features.append(i)\n",
    "    \n",
    "    selected_features = X_train_scaled.columns[rfe.support_]\n",
    "    coefficients = pd.Series(rfe.estimator_.coef_, index=selected_features)\n",
    "    feature_coefficients.append(coefficients)"
   ]
  },
  {
   "cell_type": "markdown",
   "metadata": {},
   "source": [
    "The following figure plots the R² values as the number of features increases. This provides a visual representation of where an optimal number of features may lie compared to using other feature counts."
   ]
  },
  {
   "cell_type": "code",
   "execution_count": 6,
   "metadata": {},
   "outputs": [
    {
     "data": {
      "image/png": "[encoded data removed]",
      "text/plain": [
       "<Figure size 640x480 with 1 Axes>"
      ]
     },
     "metadata": {},
     "output_type": "display_data"
    }
   ],
   "source": [
    "import matplotlib.pyplot as plt\n",
    "\n",
    "plt.plot(n_features, r2_scores, marker='o', linestyle='-')\n",
    "plt.xlabel(\"Number of Features Retained\")\n",
    "plt.ylabel(\"R² Score\")\n",
    "plt.title(\"R² Score vs. Number of Features\")\n",
    "plt.grid(True)\n",
    "plt.show()"
   ]
  },
  {
   "cell_type": "markdown",
   "metadata": {},
   "source": [
    "When using a threshold of 0.1, this indicates that 2 features are optimal, as adding more does not result in significant changes."
   ]
  },
  {
   "cell_type": "code",
   "execution_count": 8,
   "metadata": {},
   "outputs": [
    {
     "name": "stdout",
     "output_type": "stream",
     "text": [
      "Optimal #Features: 2\n"
     ]
    }
   ],
   "source": [
    "import numpy as np\n",
    "\n",
    "threshold = 0.01 \n",
    "optimal_features = n_features[np.argmax(np.diff(r2_scores) < threshold)]\n",
    "print(\"Optimal #Features:\", optimal_features)"
   ]
  },
  {
   "cell_type": "markdown",
   "metadata": {},
   "source": [
    "## **Task 4: Analyze Feature Importance**\n",
    "---"
   ]
  },
  {
   "cell_type": "markdown",
   "metadata": {},
   "source": [
    "The table below shows the features at each iteration of RFE."
   ]
  },
  {
   "cell_type": "code",
   "execution_count": 9,
   "metadata": {},
   "outputs": [
    {
     "data": {
      "text/html": [
       "<div>\n",
       "<style scoped>\n",
       "    .dataframe tbody tr th:only-of-type {\n",
       "        vertical-align: middle;\n",
       "    }\n",
       "\n",
       "    .dataframe tbody tr th {\n",
       "        vertical-align: top;\n",
       "    }\n",
       "\n",
       "    .dataframe thead th {\n",
       "        text-align: right;\n",
       "    }\n",
       "</style>\n",
       "<table border=\"1\" class=\"dataframe\">\n",
       "  <thead>\n",
       "    <tr style=\"text-align: right;\">\n",
       "      <th></th>\n",
       "      <th>1 features</th>\n",
       "      <th>2 features</th>\n",
       "      <th>3 features</th>\n",
       "      <th>4 features</th>\n",
       "      <th>5 features</th>\n",
       "      <th>6 features</th>\n",
       "      <th>7 features</th>\n",
       "      <th>8 features</th>\n",
       "      <th>9 features</th>\n",
       "      <th>10 features</th>\n",
       "    </tr>\n",
       "  </thead>\n",
       "  <tbody>\n",
       "    <tr>\n",
       "      <th>bmi</th>\n",
       "      <td>47.141122</td>\n",
       "      <td>34.561598</td>\n",
       "      <td>34.824858</td>\n",
       "      <td>32.642633</td>\n",
       "      <td>28.225480</td>\n",
       "      <td>26.309836</td>\n",
       "      <td>26.052658</td>\n",
       "      <td>25.999687</td>\n",
       "      <td>25.624624</td>\n",
       "      <td>25.607121</td>\n",
       "    </tr>\n",
       "    <tr>\n",
       "      <th>s5</th>\n",
       "      <td>NaN</td>\n",
       "      <td>26.852197</td>\n",
       "      <td>32.487841</td>\n",
       "      <td>37.404489</td>\n",
       "      <td>34.800355</td>\n",
       "      <td>38.357441</td>\n",
       "      <td>31.749939</td>\n",
       "      <td>36.389705</td>\n",
       "      <td>35.555151</td>\n",
       "      <td>35.161195</td>\n",
       "    </tr>\n",
       "    <tr>\n",
       "      <th>s1</th>\n",
       "      <td>NaN</td>\n",
       "      <td>NaN</td>\n",
       "      <td>-10.895940</td>\n",
       "      <td>-28.295763</td>\n",
       "      <td>-31.282091</td>\n",
       "      <td>-40.632693</td>\n",
       "      <td>-31.524621</td>\n",
       "      <td>-45.228296</td>\n",
       "      <td>-44.680849</td>\n",
       "      <td>-44.448856</td>\n",
       "    </tr>\n",
       "    <tr>\n",
       "      <th>s2</th>\n",
       "      <td>NaN</td>\n",
       "      <td>NaN</td>\n",
       "      <td>NaN</td>\n",
       "      <td>17.263257</td>\n",
       "      <td>19.483143</td>\n",
       "      <td>28.114579</td>\n",
       "      <td>16.330902</td>\n",
       "      <td>25.759819</td>\n",
       "      <td>25.151517</td>\n",
       "      <td>24.640954</td>\n",
       "    </tr>\n",
       "    <tr>\n",
       "      <th>bp</th>\n",
       "      <td>NaN</td>\n",
       "      <td>NaN</td>\n",
       "      <td>NaN</td>\n",
       "      <td>NaN</td>\n",
       "      <td>14.841764</td>\n",
       "      <td>16.948653</td>\n",
       "      <td>17.538042</td>\n",
       "      <td>17.607527</td>\n",
       "      <td>17.143839</td>\n",
       "      <td>16.828872</td>\n",
       "    </tr>\n",
       "    <tr>\n",
       "      <th>sex</th>\n",
       "      <td>NaN</td>\n",
       "      <td>NaN</td>\n",
       "      <td>NaN</td>\n",
       "      <td>NaN</td>\n",
       "      <td>NaN</td>\n",
       "      <td>-10.241663</td>\n",
       "      <td>-11.197798</td>\n",
       "      <td>-11.121222</td>\n",
       "      <td>-11.258951</td>\n",
       "      <td>-11.511809</td>\n",
       "    </tr>\n",
       "    <tr>\n",
       "      <th>s4</th>\n",
       "      <td>NaN</td>\n",
       "      <td>NaN</td>\n",
       "      <td>NaN</td>\n",
       "      <td>NaN</td>\n",
       "      <td>NaN</td>\n",
       "      <td>NaN</td>\n",
       "      <td>8.835330</td>\n",
       "      <td>13.254423</td>\n",
       "      <td>12.903924</td>\n",
       "      <td>13.138784</td>\n",
       "    </tr>\n",
       "    <tr>\n",
       "      <th>s3</th>\n",
       "      <td>NaN</td>\n",
       "      <td>NaN</td>\n",
       "      <td>NaN</td>\n",
       "      <td>NaN</td>\n",
       "      <td>NaN</td>\n",
       "      <td>NaN</td>\n",
       "      <td>NaN</td>\n",
       "      <td>8.091813</td>\n",
       "      <td>7.882757</td>\n",
       "      <td>7.676978</td>\n",
       "    </tr>\n",
       "    <tr>\n",
       "      <th>s6</th>\n",
       "      <td>NaN</td>\n",
       "      <td>NaN</td>\n",
       "      <td>NaN</td>\n",
       "      <td>NaN</td>\n",
       "      <td>NaN</td>\n",
       "      <td>NaN</td>\n",
       "      <td>NaN</td>\n",
       "      <td>NaN</td>\n",
       "      <td>2.577454</td>\n",
       "      <td>2.351364</td>\n",
       "    </tr>\n",
       "    <tr>\n",
       "      <th>age</th>\n",
       "      <td>NaN</td>\n",
       "      <td>NaN</td>\n",
       "      <td>NaN</td>\n",
       "      <td>NaN</td>\n",
       "      <td>NaN</td>\n",
       "      <td>NaN</td>\n",
       "      <td>NaN</td>\n",
       "      <td>NaN</td>\n",
       "      <td>NaN</td>\n",
       "      <td>1.753758</td>\n",
       "    </tr>\n",
       "  </tbody>\n",
       "</table>\n",
       "</div>"
      ],
      "text/plain": [
       "     1 features  2 features  3 features  4 features  5 features  6 features  \\\n",
       "bmi   47.141122   34.561598   34.824858   32.642633   28.225480   26.309836   \n",
       "s5          NaN   26.852197   32.487841   37.404489   34.800355   38.357441   \n",
       "s1          NaN         NaN  -10.895940  -28.295763  -31.282091  -40.632693   \n",
       "s2          NaN         NaN         NaN   17.263257   19.483143   28.114579   \n",
       "bp          NaN         NaN         NaN         NaN   14.841764   16.948653   \n",
       "sex         NaN         NaN         NaN         NaN         NaN  -10.241663   \n",
       "s4          NaN         NaN         NaN         NaN         NaN         NaN   \n",
       "s3          NaN         NaN         NaN         NaN         NaN         NaN   \n",
       "s6          NaN         NaN         NaN         NaN         NaN         NaN   \n",
       "age         NaN         NaN         NaN         NaN         NaN         NaN   \n",
       "\n",
       "     7 features  8 features  9 features  10 features  \n",
       "bmi   26.052658   25.999687   25.624624    25.607121  \n",
       "s5    31.749939   36.389705   35.555151    35.161195  \n",
       "s1   -31.524621  -45.228296  -44.680849   -44.448856  \n",
       "s2    16.330902   25.759819   25.151517    24.640954  \n",
       "bp    17.538042   17.607527   17.143839    16.828872  \n",
       "sex  -11.197798  -11.121222  -11.258951   -11.511809  \n",
       "s4     8.835330   13.254423   12.903924    13.138784  \n",
       "s3          NaN    8.091813    7.882757     7.676978  \n",
       "s6          NaN         NaN    2.577454     2.351364  \n",
       "age         NaN         NaN         NaN     1.753758  "
      ]
     },
     "metadata": {},
     "output_type": "display_data"
    }
   ],
   "source": [
    "coef_df = pd.DataFrame(feature_coefficients).transpose()\n",
    "coef_df.columns = [f\"{i} features\" for i in n_features]\n",
    "display(coef_df)"
   ]
  },
  {
   "cell_type": "markdown",
   "metadata": {},
   "source": [
    "When comparing the initial and final features after applying RFE, the coefficients show slight changes for each feature, with age being dropped at the end. The top three features suggest that Total Serum Cholesterol (s1), Log of Serum Triglycerides Level (s5), and Body Mass Index (BMI) have the most impact on disease progression one year after baseline, compared to the other features."
   ]
  },
  {
   "cell_type": "code",
   "execution_count": 10,
   "metadata": {},
   "outputs": [
    {
     "name": "stdout",
     "output_type": "stream",
     "text": [
      "\n",
      "Initial Features:\n",
      " s1     44.448856\n",
      "s5     35.161195\n",
      "bmi    25.607121\n",
      "s2     24.640954\n",
      "bp     16.828872\n",
      "s4     13.138784\n",
      "sex    11.511809\n",
      "s3      7.676978\n",
      "s6      2.351364\n",
      "age     1.753758\n",
      "dtype: float64\n",
      "\n",
      "Final Features:\n",
      " s1     44.680849\n",
      "s5     35.555151\n",
      "bmi    25.624624\n",
      "s2     25.151517\n",
      "bp     17.143839\n",
      "s4     12.903924\n",
      "sex    11.258951\n",
      "s3      7.882757\n",
      "s6      2.577454\n",
      "age          NaN\n",
      "Name: 9 features, dtype: float64\n",
      "\n",
      "Top Three Most Important Features:\n",
      " ['s1', 's5', 'bmi']\n"
     ]
    }
   ],
   "source": [
    "init_features = init_coefficients.abs().sort_values(ascending=False)\n",
    "print(\"\\nInitial Features:\\n\", init_features)\n",
    "\n",
    "final_features = coef_df.iloc[:, -optimal_features].abs().sort_values(ascending=False)\n",
    "print(\"\\nFinal Features:\\n\", final_features)\n",
    "\n",
    "top_features = init_features.head(3).index.tolist()\n",
    "print(\"\\nTop Three Most Important Features:\\n\", top_features)\n"
   ]
  },
  {
   "cell_type": "markdown",
   "metadata": {},
   "source": [
    "## **Task 5: Reflection**\n",
    "---"
   ]
  },
  {
   "cell_type": "markdown",
   "metadata": {},
   "source": [
    "### **What did I learn about RFE**\n",
    "Recursive Feature Elimination is a neat algorithm that iteratively removes the least important features and evaluates the model's performance along the way. This can lead to discovering the most important features for a target variable and also reduce computational cost in further analysis by utilizing only the optimal number of features compared to the entire dataset. This is definitely something I will remember and utilize when handling datasets and their feature importance.\n",
    "\n",
    "### **How does it compare to LASSO**\n",
    "Unlike using an iterative approach to remove features one at a time, LASSO uses a regularization technique that applies an L1 penalty to the regression coefficients. It doesn't require multiple iterations, and the number of features selected depends on the strength of the penalty parameter. Therefore, LASSO is more ideal for larger datasets with many features, as it is more direct and less computationally expensive. However, RFE does offer more control since you go through each iteration of removing a feature one at a time.\n",
    "\n",
    "### **Insights about the dataset and selected features**\n",
    "Based on the optimal number of features selected by the model, Total Serum Cholesterol (s1) and Log of Serum Triglycerides Level (s5) have the highest impact on disease progression one year after baseline, compared to the other features. However, I would like to point out that when graphing the R² values against the number of features retained, I found it odd that sometimes the R² value would drop when the number of features increased. My current understanding of the subject is that more features mean more data to explain the variability. Therefore, R² should continue to rise as more features are included. I would like to review this report with someone else to validate my results."
   ]
  }
 ],
 "metadata": {
  "kernelspec": {
   "display_name": "myKernel",
   "language": "python",
   "name": "mykernel"
  },
  "language_info": {
   "codemirror_mode": {
    "name": "ipython",
    "version": 3
   },
   "file_extension": ".py",
   "mimetype": "text/x-python",
   "name": "python",
   "nbconvert_exporter": "python",
   "pygments_lexer": "ipython3",
   "version": "3.12.6"
  }
 },
 "nbformat": 4,
 "nbformat_minor": 2
}
